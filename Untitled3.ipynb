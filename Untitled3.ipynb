{
 "cells": [
  {
   "cell_type": "code",
   "execution_count": 1,
   "id": "eab63ce3",
   "metadata": {},
   "outputs": [],
   "source": [
    "import pandas as pd\n",
    "data = pd.read_csv('Bank_Inventory_pricing.csv')"
   ]
  },
  {
   "cell_type": "code",
   "execution_count": 3,
   "id": "c0ed1496",
   "metadata": {},
   "outputs": [
    {
     "name": "stdout",
     "output_type": "stream",
     "text": [
      "     Product  Quantity    Price  purchase_cost  Estimated_sale_price  Month\n",
      "0   BusiCard         1  4000.99            NaN               3500.00      2\n",
      "1    PayCard         2   300.45        8000.87               9000.56      1\n",
      "2    PayCard         2   800.45        5000.80               8700.56      1\n",
      "3    PayCard         2   500.45        6000.47               7400.56      1\n",
      "4  PayPoints         4   390.87        7000.67               6700.56      2\n"
     ]
    }
   ],
   "source": [
    "import pandas as pd\n",
    "\n",
    "# Load the dataset\n",
    "data = pd.read_csv('Bank_Inventory_pricing.csv')\n",
    "\n",
    "# Display the first few rows of the dataset\n",
    "print(data.head())"
   ]
  },
  {
   "cell_type": "code",
   "execution_count": 9,
   "id": "38833fe0",
   "metadata": {},
   "outputs": [
    {
     "name": "stdout",
     "output_type": "stream",
     "text": [
      "The product with the highest estimated sale price is PayCard with a price of $9000.56\n"
     ]
    }
   ],
   "source": [
    "#1) Which product has the highest estimated sale price, and what is the price?\n",
    "\n",
    "data = [\n",
    "    [\"BusiCard\", 1, 4000.99, None, 3500, 2],\n",
    "    [\"PayCard\", 2, 300.45, 8000.87, 9000.56, 1],\n",
    "    # ... (insert the rest of your data here)\n",
    "    [\"BusiCard\", 1, 3000.99, None, 3500, 3]\n",
    "]\n",
    "\n",
    "# Initialize variables to keep track of the highest sale price and the corresponding product\n",
    "highest_sale_price = -float(\"inf\")\n",
    "highest_sale_product = None\n",
    "\n",
    "# Iterate through the data and find the highest sale price\n",
    "for row in data:\n",
    "    estimated_sale_price = row[4]\n",
    "    if estimated_sale_price is not None and estimated_sale_price > highest_sale_price:\n",
    "        highest_sale_price = estimated_sale_price\n",
    "        highest_sale_product = row[0]\n",
    "\n",
    "# Print the result\n",
    "if highest_sale_product is not None:\n",
    "    print(f\"The product with the highest estimated sale price is {highest_sale_product} with a price of ${highest_sale_price:.2f}\")\n",
    "else:\n",
    "    print(\"No product with a valid estimated sale price found.\")\n"
   ]
  },
  {
   "cell_type": "code",
   "execution_count": 36,
   "id": "8faf8124",
   "metadata": {},
   "outputs": [
    {
     "name": "stdout",
     "output_type": "stream",
     "text": [
      "      Product   Profit\n",
      "0    BusiCard      NaN\n",
      "1     PayCard   999.69\n",
      "2     PayCard  3699.76\n",
      "3     PayCard  1400.09\n",
      "4   PayPoints  -300.11\n",
      "5    SmartPay -2400.65\n",
      "6     MaxGain -1367.56\n",
      "7     MaxGain      NaN\n",
      "8   SuperSave      NaN\n",
      "9   SuperSave      NaN\n",
      "10  SuperSave   599.36\n",
      "11  SuperSave  3799.42\n",
      "12   SmartSav      NaN\n",
      "13   SmartSav  3098.37\n",
      "14   SmartSav      NaN\n",
      "15   EasyCash      NaN\n",
      "16   EasyCash      NaN\n",
      "17   EasyCash      NaN\n",
      "18   BusiCard      NaN\n",
      "19   BusiCard      NaN\n",
      "20   BusiCard      NaN\n",
      "21   BusiCard      NaN\n"
     ]
    }
   ],
   "source": [
    "#2) Calculate the total profit for each product (Estimated Sale Price - Purchase Cost).\n",
    "import pandas as pd\n",
    "\n",
    "# Load the dataset\n",
    "data = pd.read_csv('Bank_Inventory_pricing.csv')\n",
    "\n",
    "# Calculate the profit for each product\n",
    "data['Profit'] = data['Estimated_sale_price'] - data['purchase_cost']\n",
    "\n",
    "# Display the product names and their corresponding profits\n",
    "product_profit = data[['Product', 'Profit']]\n",
    "print(product_profit)\n",
    "\n",
    "\n",
    "\n"
   ]
  },
  {
   "cell_type": "code",
   "execution_count": 38,
   "id": "1e3de311",
   "metadata": {},
   "outputs": [
    {
     "name": "stdout",
     "output_type": "stream",
     "text": [
      "The number of products with missing values in the 'purchase_cost' column is: 11\n"
     ]
    }
   ],
   "source": [
    "#3) How many products have missing values in the \"purchase_cost\" column?\n",
    "import pandas as pd\n",
    "\n",
    "# Load the dataset\n",
    "data = pd.read_csv('Bank_Inventory_pricing.csv')\n",
    "\n",
    "# Count the number of missing values in the \"purchase_cost\" column\n",
    "missing_purchase_cost = data['purchase_cost'].isnull().sum()\n",
    "\n",
    "# Print the result\n",
    "print(f\"The number of products with missing values in the 'purchase_cost' column is: {missing_purchase_cost}\")\n"
   ]
  },
  {
   "cell_type": "code",
   "execution_count": 40,
   "id": "2c6b63b2",
   "metadata": {},
   "outputs": [
    {
     "name": "stdout",
     "output_type": "stream",
     "text": [
      "Product\n",
      "BusiCard         0.00\n",
      "EasyCash         0.00\n",
      "MaxGain       9291.34\n",
      "PayCard      19002.14\n",
      "PayPoints     7000.67\n",
      "SmartPay      5600.77\n",
      "SmartSav     11801.94\n",
      "SuperSave     8001.48\n",
      "Name: purchase_cost, dtype: float64\n"
     ]
    }
   ],
   "source": [
    "#4) Calculate the total purchase cost for each product.\n",
    "\n",
    "import pandas as pd\n",
    "\n",
    "# Load the dataset\n",
    "data = pd.read_csv('Bank_Inventory_pricing.csv')\n",
    "\n",
    "# Group by product and calculate total purchase cost for each product\n",
    "total_purchase_cost = data.groupby('Product')['purchase_cost'].sum()\n",
    "\n",
    "# Display the total purchase cost for each product\n",
    "print(total_purchase_cost)\n"
   ]
  },
  {
   "cell_type": "code",
   "execution_count": 42,
   "id": "9655c10c",
   "metadata": {},
   "outputs": [
    {
     "name": "stdout",
     "output_type": "stream",
     "text": [
      "Product\n",
      "BusiCard      17500.00\n",
      "EasyCash      50497.38\n",
      "MaxGain        9699.33\n",
      "PayCard       50203.36\n",
      "PayPoints     26802.24\n",
      "SmartPay      16000.60\n",
      "SmartSav      43830.48\n",
      "SuperSave    149603.64\n",
      "Name: Total_Revenue, dtype: float64\n"
     ]
    }
   ],
   "source": [
    "#5) Calculate the total revenue for each product (Quantity * Estimated Sale Price).\n",
    "\n",
    "import pandas as pd\n",
    "\n",
    "# Load the dataset\n",
    "data = pd.read_csv('Bank_Inventory_pricing.csv')\n",
    "\n",
    "# Calculate the total revenue for each product\n",
    "data['Total_Revenue'] = data['Quantity'] * data['Estimated_sale_price']\n",
    "\n",
    "# Group by product and calculate total revenue for each product\n",
    "total_revenue_per_product = data.groupby('Product')['Total_Revenue'].sum()\n",
    "\n",
    "# Display the total revenue for each product\n",
    "print(total_revenue_per_product)\n"
   ]
  },
  {
   "cell_type": "code",
   "execution_count": null,
   "id": "b17679ad",
   "metadata": {},
   "outputs": [],
   "source": []
  }
 ],
 "metadata": {
  "kernelspec": {
   "display_name": "Python 3 (ipykernel)",
   "language": "python",
   "name": "python3"
  },
  "language_info": {
   "codemirror_mode": {
    "name": "ipython",
    "version": 3
   },
   "file_extension": ".py",
   "mimetype": "text/x-python",
   "name": "python",
   "nbconvert_exporter": "python",
   "pygments_lexer": "ipython3",
   "version": "3.11.4"
  }
 },
 "nbformat": 4,
 "nbformat_minor": 5
}
